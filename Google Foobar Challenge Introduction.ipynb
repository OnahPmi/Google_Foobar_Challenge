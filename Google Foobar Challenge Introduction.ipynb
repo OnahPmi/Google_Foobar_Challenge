{
 "cells": [
  {
   "cell_type": "markdown",
   "id": "e0d5ab27",
   "metadata": {},
   "source": [
    "Once Google invite you to the chalenge and you accept, you will be redirected to a server that look somewhat like a command line interface. you will be asked to type help to see the list of commands and how to navigate the environment.  \n",
    "When you type **`help`** and press enter the list of command will appear\n",
    " this looks like this:  \n",
    " ![List of commands](https://github.com/OnahPmi/Google_Foobar_Challenge/raw/main/Images/list_of_commands%20foobar.withgoogle.com.png)\n",
    "\n",
    "Then, in the home directory if you type the command **`ls`**, it will list the following files for you   \n",
    "* journal.txt\n",
    "* start_here.txt  \n",
    "\n",
    "The file `journal.txt` contain the following:  \n",
    "Success! You've managed to infiltrate Commander Lambda's evil organization, and finally earned yourself an entry-level position as a Minion on their space station. From here, you just might be able to subvert Commander Lambda's plans to use the LAMBCHOP doomsday device to destroy Bunny Planet. Problem is, Minions are the lowest of the low in the Lambda hierarchy. Better buck up and get working, or you'll never make it to the top...\n",
    "\n",
    "Commander Lambda sure is a task-master, aren't they? You're being worked to the bone!\n",
    "\n",
    "You survived a week in Commander Lambda's organization, and you even managed to get yourself promoted. Hooray! Henchmen still don't have the kind of security access you'll need to take down Commander Lambda, though, so you'd better keep working. Chop chop!\n",
    "\n",
    "The perks are definitely better as a Henchman than as a Minion. You're even allowed to sleep lying down!\n",
    "\n",
    "The latest gossip in the henchman breakroom is that \"LAMBCHOP\" stands for \"Lambda's Anti-Matter Biofuel Collision Hadron Oxidating Potentiator\". You're pretty sure it runs on diesel, not biofuel, but you can at least give the commander credit for trying.\n",
    "\n",
    "Awesome! Commander Lambda was so impressed by your efforts that you've been promoted to personal assistant. You'll be helping the Commander directly, which means you'll have access to all of Lambda's files -- including the ones on the LAMBCHOP doomsday device. This is the chance you've been waiting for. Can you use your new access to finally topple Commander Lambda's evil empire?\n",
    "\n",
    "One of these days you're going to manage to glimpse Commander Lambda's password over their shoulder. But the Commander is very careful about security and you haven't managed it yet...\n",
    "\n",
    "While the `start_here.txt` contains the following:  \n",
    "\n",
    "Type `request` to request a challenge. Type `help` for a list of commands.\n",
    "\n",
    "**Note**: Use **`less`** to view a file e.g. **`less start_here.txt`** and **`q`** to exit the file back to the directory."
   ]
  },
  {
   "cell_type": "raw",
   "id": "3c7b0f76",
   "metadata": {},
   "source": [
    "echo \"# Google_Foobar_Challenge\" >> README.md\n",
    "git init\n",
    "git add README.md\n",
    "git commit -m \"first commit\"\n",
    "git branch -M main\n",
    "git remote add origin https://github.com/OnahPmi/Google_Foobar_Challenge.git\n",
    "git push -u origin main"
   ]
  }
 ],
 "metadata": {
  "kernelspec": {
   "display_name": "Python 3 (ipykernel)",
   "language": "python",
   "name": "python3"
  },
  "language_info": {
   "codemirror_mode": {
    "name": "ipython",
    "version": 3
   },
   "file_extension": ".py",
   "mimetype": "text/x-python",
   "name": "python",
   "nbconvert_exporter": "python",
   "pygments_lexer": "ipython3",
   "version": "3.9.7"
  }
 },
 "nbformat": 4,
 "nbformat_minor": 5
}
