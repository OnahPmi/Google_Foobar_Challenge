{
 "cells": [
  {
   "cell_type": "markdown",
   "id": "3adf8b75",
   "metadata": {},
   "source": [
    "# Link to Challenge\n",
    "https://foobar.withgoogle.com"
   ]
  },
  {
   "cell_type": "markdown",
   "id": "5ad508e7",
   "metadata": {},
   "source": [
    "# Requirements\n",
    "## Java\n",
    "Your code will be compiled using standard Java 8. All tests will be run by calling the solution() method inside the Solution class\n",
    "\n",
    "Execution time is limited.\n",
    "\n",
    "Wildcard imports and some specific classes are restricted (e.g. java.lang.ClassLoader). You will receive an error when you verify your solution if you have used a blacklisted class.\n",
    "\n",
    "Third-party libraries, input/output operations, spawning threads or processes and changes to the execution environment are not allowed.\n",
    "\n",
    "Your solution must be under 32000 characters in length including new lines and and other non-printing characters.\n",
    "***\n",
    "## Python\n",
    "Your code will run inside a Python 2.7.13 sandbox. All tests will be run by calling the solution() function.\n",
    "\n",
    "Standard libraries are supported except for bz2, crypt, fcntl, mmap, pwd, pyexpat, select, signal, termios, thread, time, unicodedata, zipimport, zlib.\n",
    "\n",
    "Input/output operations are not allowed.\n",
    "\n",
    "Your solution must be under 32000 characters in length including new lines and and other non-printing characters.\n",
    "***"
   ]
  },
  {
   "cell_type": "markdown",
   "id": "e0c1f1da",
   "metadata": {},
   "source": [
    "Level one: I Love Lance & Janice\n",
    "===========================\n",
    "\n",
    "# Challenge\n",
    "\n",
    "You've caught two of your fellow minions passing coded notes back and forth -- while they're on duty, no less! Worse, you're pretty sure \n",
    "it's not job-related -- they're both huge fans of the space soap opera \"\"Lance & Janice\"\". You know how much Commander \n",
    "Lambda hates waste, so if you can prove that these minions are wasting time passing non-job-related notes, it'll put you that much closer to a \n",
    "promotion. \n",
    "\n",
    "Fortunately for you, the minions aren't exactly advanced cryptographers. In their code, every lowercase letter [a..z] is replaced with the \n",
    "corresponding one in [z..a], while every other character (including uppercase letters and punctuation) is left untouched.  That is, 'a' becomes \n",
    "'z', 'b' becomes 'y', 'c' becomes 'x', etc.  For instance, the word \"\"vmxibkgrlm\"\", when \n",
    "decoded, would become \"\"encryption\"\".\n",
    "\n",
    "Write a function called solution(s) which takes in a string and returns the deciphered string so you can show the commander proof that these minions \n",
    "are talking about \"\"Lance & Janice\"\" instead of doing their jobs.\n",
    "\n",
    "## Languages\n",
    "To provide a Python solution, edit solution.py\n",
    "To provide a Java solution, edit solution.java\n",
    "\n",
    "## Test cases\n",
    "\n",
    "Inputs:  \n",
    "(string) s = “wrw blf hvv ozhg mrtsg’h vkrhlwv?”  \n",
    "Output:  \n",
    "(string) “did you see last night’s episode?”  \n",
    "\n",
    "Inputs:  \n",
    "(string) s = “Yvzs! I xzm’g yvorvev Lzmxv olhg srh qly zg gsv xlolmb!!”  \n",
    "Output:    \n",
    "(string) “Yeah! I can’t believe Lance lost his job at the colony!!”    \n",
    "\n",
    "Use verify [file] to test your solution and see how it does. When you are finished editing your code, use submit [file] to submit your answer. If your solution passes the test cases, it will be removed from your home folder."
   ]
  },
  {
   "cell_type": "code",
   "execution_count": 1,
   "id": "2d49ff6a",
   "metadata": {},
   "outputs": [],
   "source": [
    "def test_cases():\n",
    "\n",
    "    test_datasets = [\"Lzmxv & Jzmrxv\", \"wrw blf hvv ozhg mrtsg'h vkrhlwv?\", \n",
    "                     \"Yvzs! I xzm’g yvorvev Lzmxv olhg srh qly zg gsv xlolmb!!\"]\n",
    "    \n",
    "    answers =[\"Lance & Janice\", \"did you see last night's episode?\", \n",
    "              \"Yeah! I can’t believe Lance lost his job at the colony!!\"]\n",
    "    \n",
    "    counts = range(1, len(answers)+1, 1)\n",
    "    for test_dataset, answer, count in zip(test_datasets, answers, counts):\n",
    "        if solution(test_dataset) == answer:\n",
    "            print(f\"Test {count} passed!\")\n",
    "        else:\n",
    "            print(f\"Test {count} failed!\")"
   ]
  },
  {
   "cell_type": "markdown",
   "id": "76ec24cc",
   "metadata": {},
   "source": [
    "Solutuion\n",
    "========"
   ]
  },
  {
   "cell_type": "code",
   "execution_count": 2,
   "id": "5a655825",
   "metadata": {},
   "outputs": [
    {
     "name": "stdout",
     "output_type": "stream",
     "text": [
      "Test 1 passed!\n",
      "Test 2 passed!\n",
      "Test 3 passed!\n"
     ]
    }
   ],
   "source": [
    "# This is the solution that was submitted\n",
    "\n",
    "def solution(s):\n",
    "    import string\n",
    "    \n",
    "    letters = string.ascii_letters\n",
    "    letter_list = [letter for letter in letters]\n",
    "    upper_letters = letter_list[26:]\n",
    "    \n",
    "    my_list = []\n",
    "    for char in s:\n",
    "        if char == \"a\": my_list.append(\"z\")\n",
    "        elif char == \"b\": my_list.append(\"y\")\n",
    "        elif char == \"c\": my_list.append(\"x\")\n",
    "        elif char == \"d\": my_list.append(\"w\")\n",
    "        elif char == \"e\": my_list.append(\"v\")\n",
    "        elif char == \"f\": my_list.append(\"u\")\n",
    "        elif char == \"g\": my_list.append(\"t\")\n",
    "        elif char == \"h\": my_list.append(\"s\")\n",
    "        elif char == \"i\": my_list.append(\"r\")\n",
    "        elif char == \"j\": my_list.append(\"q\")\n",
    "        elif char == \"k\": my_list.append(\"p\")\n",
    "        elif char == \"l\": my_list.append(\"o\")\n",
    "        elif char == \"m\": my_list.append(\"n\")\n",
    "        elif char == \"n\": my_list.append(\"m\")\n",
    "        elif char == \"o\": my_list.append(\"l\")\n",
    "        elif char == \"p\": my_list.append(\"k\")\n",
    "        elif char == \"q\": my_list.append(\"j\")\n",
    "        elif char == \"r\": my_list.append(\"i\")\n",
    "        elif char == \"s\": my_list.append(\"h\")\n",
    "        elif char == \"t\": my_list.append(\"g\")\n",
    "        elif char == \"u\": my_list.append(\"f\")\n",
    "        elif char == \"v\": my_list.append(\"e\")\n",
    "        elif char == \"w\": my_list.append(\"d\")\n",
    "        elif char == \"x\": my_list.append(\"c\")\n",
    "        elif char == \"y\": my_list.append(\"b\")\n",
    "        elif char == \"z\": my_list.append(\"a\")\n",
    "        # Checks for Punctuation mark and append it to the list\n",
    "        elif char not in letter_list: my_list.append(char)\n",
    "        # Checks for capital letter and append it to the list unchanged\n",
    "        elif char in upper_letters: my_list.append(char)\n",
    "        elif char == \" \": my_list.append(\" \")\n",
    "            \n",
    "    deciphered_string = \"\".join(my_list) \n",
    "    return deciphered_string\n",
    "\n",
    "test_cases()"
   ]
  },
  {
   "cell_type": "code",
   "execution_count": 3,
   "id": "e812aee3",
   "metadata": {},
   "outputs": [
    {
     "name": "stdout",
     "output_type": "stream",
     "text": [
      "Test 1 passed!\n",
      "Test 2 passed!\n",
      "Test 3 passed!\n"
     ]
    }
   ],
   "source": [
    "# Method 2\n",
    "def solution(s):\n",
    "    import string\n",
    "    \n",
    "    cipher = dict()\n",
    "    # cipher = {}\n",
    "    answer = \"\"\n",
    "\n",
    "    for no, val in enumerate(string.ascii_lowercase):\n",
    "        cipher[val] = string.ascii_lowercase[25 - no]\n",
    "\n",
    "    for char in s:\n",
    "        if char.islower():\n",
    "            answer += cipher[char]\n",
    "        else:\n",
    "            answer += char\n",
    "\n",
    "    return answer\n",
    "\n",
    "test_cases()"
   ]
  }
 ],
 "metadata": {
  "kernelspec": {
   "display_name": "Python 3 (ipykernel)",
   "language": "python",
   "name": "python3"
  },
  "language_info": {
   "codemirror_mode": {
    "name": "ipython",
    "version": 3
   },
   "file_extension": ".py",
   "mimetype": "text/x-python",
   "name": "python",
   "nbconvert_exporter": "python",
   "pygments_lexer": "ipython3",
   "version": "3.9.7"
  }
 },
 "nbformat": 4,
 "nbformat_minor": 5
}
