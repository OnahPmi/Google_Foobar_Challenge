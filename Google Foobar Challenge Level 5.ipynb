{
 "cells": [
  {
   "cell_type": "markdown",
   "id": "e32d94ff",
   "metadata": {},
   "source": [
    "# Level Five: Dodge the Lasers!\n",
    "\n",
    "## Preamble\n",
    "\n",
    "Oh no! You escaped Commander Lambda's exploding space station -- but so did the Commander, and Lambda is definitely not happy with you. Lambda is chasing you in a heavily-armed starfighter, while you and the bunny workers are stuck in these lumbering escape pods. It'll take all your wits and cleverness to escape such a hare-y situation, so you'd better hop to it!\n",
    "\n",
    "Traveling through a nebula is a really bad idea, but with Commander Lambda hot on your tail, you don't have many options. Hopefully you can lose them once you're inside!"
   ]
  },
  {
   "cell_type": "markdown",
   "id": "45d8d28f",
   "metadata": {},
   "source": [
    "# Constraints\n",
    "\n",
    "## Java\n",
    "Your code will be compiled using standard Java 8. All tests will be run by calling the solution() method inside the Solution class\n",
    "\n",
    "`Execution time is limited`.\n",
    "\n",
    "Wildcard imports and some specific classes are restricted (e.g. java.lang.ClassLoader). You will receive an error when you verify your solution if you have used a blacklisted class.\n",
    "\n",
    "Third-party libraries, input/output operations, spawning threads or processes and changes to the execution environment are not allowed.\n",
    "\n",
    "Your solution must be under 32000 characters in length including new lines and and other non-printing characters.\n",
    "\n",
    "## Python\n",
    "Your code will run inside a Python 2.7.13 sandbox. All tests will be run by calling the solution() function.\n",
    "\n",
    "Standard libraries are supported except for bz2, crypt, fcntl, mmap, pwd, pyexpat, select, signal, termios, thread, time, unicodedata, zipimport, zlib.\n",
    "\n",
    "Input/output operations are not allowed.\n",
    "\n",
    "Your solution must be under 32000 characters in length including new lines and and other non-printing characters."
   ]
  },
  {
   "cell_type": "markdown",
   "id": "c6c95fba",
   "metadata": {},
   "source": [
    "# Dodge the Lasers!\n",
    "\n",
    "\n",
    "Oh no! You've managed to escape Commander Lambda's collapsing space station in an escape pod with the rescued bunny workers - but Commander Lambda isnt about to let you get away that easily. Lambda sent an elite fighter pilot squadron after you -- and they've opened fire!\n",
    "\n",
    "Fortunately, you know something important about the ships trying to shoot you down. Back when you were still Lambda's assistant, the Commander asked you to help program the aiming mechanisms for the starfighters. They undergo rigorous testing procedures, but you were still able to slip in a subtle bug. The software works as a time step simulation: if it is tracking a target that is accelerating away at 45 degrees, the software will consider the targets acceleration to be equal to the square root of 2, adding the calculated result to the targets end velocity at each timestep. However, thanks to your bug, instead of storing the result with proper precision, it will be truncated to an integer before adding the new velocity to your current position.  This means that instead of having your correct position, the targeting software will erringly report your position as sum(i=1..n, floor(i*sqrt(2))) - not far enough off to fail Commander Lambdas testing, but enough that it might just save your life.\n",
    "\n",
    "If you can quickly calculate the target of the starfighters' laser beams to know how far off they'll be, you can trick them into shooting an asteroid, releasing dust, and concealing the rest of your escape.  Write a function solution(str_n) which, given the string representation of an integer n, returns the sum of (floor(1*sqrt(2)) + floor(2*sqrt(2)) + ... + floor(n*sqrt(2))) as a string. That is, for every number i in the range 1 to n, it adds up all of the integer portions of i*sqrt(2).\n",
    "\n",
    "For example, if str_n was \"5\", the solution would be calculated as\n",
    "floor(1*sqrt(2)) +\n",
    "floor(2*sqrt(2)) +\n",
    "floor(3*sqrt(2)) +\n",
    "floor(4*sqrt(2)) +\n",
    "floor(5*sqrt(2))\n",
    "= 1+2+4+5+7 = 19\n",
    "so the function would return \"19\".\n",
    "\n",
    "str_n will be a positive integer between 1 and 10^100, inclusive. Since n can be very large (up to 101 digits!), using just sqrt(2) and a loop won't work. Sometimes, it's easier to take a step back and concentrate not on what you have in front of you, but on what you don't.\n",
    "\n",
    "## Languages\n",
    "\n",
    "To provide a Java solution, edit Solution.java  \n",
    "To provide a Python solution, edit solution.py  \n",
    "\n",
    "## Test cases\n",
    "\n",
    "Your code should pass the following test cases.  \n",
    "Note that it may also be run against hidden test cases not shown here.  \n",
    "\n",
    "## -- Java cases --\n",
    "\n",
    "Input:  \n",
    "Solution.solution('77')  \n",
    "Output: 4208   \n",
    "\n",
    "Input:  \n",
    "Solution.solution('5')  \n",
    "Output: 19  \n",
    "\n",
    "## -- Python cases --\n",
    "\n",
    "Input:  \n",
    "solution.solution('77')  \n",
    "Output: 4208  \n",
    "\n",
    "Input:  \n",
    "solution.solution('5')  \n",
    "Output: 19  \n",
    "\n",
    "Use verify [file] to test your solution and see how it does. When you are finished editing your code, use submit [file] to submit your answer. If your solution passes the test cases, it will be removed from your home folder."
   ]
  },
  {
   "cell_type": "markdown",
   "id": "1f6be685",
   "metadata": {},
   "source": [
    "# Solution"
   ]
  },
  {
   "cell_type": "code",
   "execution_count": 21,
   "id": "455b2aad",
   "metadata": {},
   "outputs": [
    {
     "data": {
      "text/plain": [
       "'70710678118654755188492662759906453933877366225201489718072694113866470848765085369096568735383376291624249517409633246469890296171853966430766331449650049497151044851389693952'"
      ]
     },
     "execution_count": 21,
     "metadata": {},
     "output_type": "execute_result"
    }
   ],
   "source": [
    "from decimal import getcontext, Decimal  \n",
    "\n",
    "# This question asks for the partial sum of the \"homogeneous Beatty \n",
    "# sequence\" with nth term of floor(n*sqrt(2)), n is a natural number\n",
    "# If S(sqrt(2),n) is the partial sum of the sequence, then,\n",
    "# S(sqrt(2),n) = n*n'(n) + n*(n+1)/2 - n'(n)*(n'(n)+1)/2 - S(n'(n)),\n",
    "# where n' = floor((sqrt(2)-1)*n)\n",
    "# Since n can be very large, typically 10**100 for the worst case \n",
    "# scenario and precision is of importance, the sqrt(2) will be\n",
    "# computed up to the 101th decimal place.\n",
    "    \n",
    "# Recursive function S(n) to compute S(sqrt(2), n) \n",
    "def S(n):\n",
    "    # Inner function n_prime(n) to compute floor((sqrt(2)-1)*n)\n",
    "    def n_prime(n):\n",
    "        getcontext().prec = 101  # Change the precision\n",
    "        return int(n*(Decimal(2).sqrt()-1))\n",
    "    n1 = n_prime(n)\n",
    "    \n",
    "    # Base cases\n",
    "    if n < 1:\n",
    "        return 0\n",
    "    if n == 1:\n",
    "        return 1\n",
    "    \n",
    "    # Recursive case\n",
    "    partial_sum = int(n*n1 + n*(1+n)/2 - n1*(1+n1)/2 - S(n1))\n",
    "    return partial_sum\n",
    "\n",
    "def solution(s):\n",
    "    n = int(s)\n",
    "    return str(S(n))\n",
    "\n",
    "solution(\"10000000000000000000000000000000000000000000000000000000000000000000000000000000000000000\")"
   ]
  },
  {
   "cell_type": "raw",
   "id": "83827e84",
   "metadata": {},
   "source": [
    "With one last roar of the escape pod's engines, you and your bunny companions jump to lightspeed. Congratulations! You've destroyed the LAMBCHOP, relieved the bunnies, gotten Commander Lambda off your tail, and saved the galaxy. Time for a little rest and relaxation back on Bunny Planet. Pat yourself on the back -- you've earned it!"
   ]
  }
 ],
 "metadata": {
  "kernelspec": {
   "display_name": "Python 3 (ipykernel)",
   "language": "python",
   "name": "python3"
  },
  "language_info": {
   "codemirror_mode": {
    "name": "ipython",
    "version": 3
   },
   "file_extension": ".py",
   "mimetype": "text/x-python",
   "name": "python",
   "nbconvert_exporter": "python",
   "pygments_lexer": "ipython3",
   "version": "3.9.7"
  }
 },
 "nbformat": 4,
 "nbformat_minor": 5
}
