{
 "cells": [
  {
   "cell_type": "markdown",
   "id": "167a7a23",
   "metadata": {},
   "source": [
    "### My link to the challenge\n",
    "https://foobar.withgoogle.com\n",
    "\n",
    "### Referal link\n",
    "Refer a friend: \"https://foobar.withgoogle.com/?eid=G676z\" (Unused)  \n",
    "Refer a friend: \"https://foobar.withgoogle.com/?eid=lXO9Z\" (Unused)  "
   ]
  },
  {
   "cell_type": "markdown",
   "id": "be19afc1",
   "metadata": {},
   "source": [
    "# Requirements\n",
    "## Java\n",
    "Your code will be compiled using standard Java 8. All tests will be run by calling the solution() method inside the Solution class\n",
    "\n",
    "Execution time is limited.\n",
    "\n",
    "Wildcard imports and some specific classes are restricted (e.g. java.lang.ClassLoader). You will receive an error when you verify your solution if you have used a blacklisted class.\n",
    "\n",
    "Third-party libraries, input/output operations, spawning threads or processes and changes to the execution environment are not allowed.\n",
    "\n",
    "Your solution must be under 32000 characters in length including new lines and and other non-printing characters.\n",
    "***\n",
    "## Python\n",
    "Your code will run inside a Python 2.7.13 sandbox. All tests will be run by calling the solution() function.\n",
    "\n",
    "Standard libraries are supported except for bz2, crypt, fcntl, mmap, pwd, pyexpat, select, signal, termios, thread, time, unicodedata, zipimport, zlib.\n",
    "\n",
    "Input/output operations are not allowed.\n",
    "\n",
    "Your solution must be under 32000 characters in length including new lines and and other non-printing characters.\n",
    "***"
   ]
  }
 ],
 "metadata": {
  "kernelspec": {
   "display_name": "Python 3 (ipykernel)",
   "language": "python",
   "name": "python3"
  },
  "language_info": {
   "codemirror_mode": {
    "name": "ipython",
    "version": 3
   },
   "file_extension": ".py",
   "mimetype": "text/x-python",
   "name": "python",
   "nbconvert_exporter": "python",
   "pygments_lexer": "ipython3",
   "version": "3.9.7"
  }
 },
 "nbformat": 4,
 "nbformat_minor": 5
}
